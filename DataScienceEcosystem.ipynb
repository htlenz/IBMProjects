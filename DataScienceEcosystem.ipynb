{
 "cells": [
  {
   "cell_type": "markdown",
   "id": "d17e0e2d",
   "metadata": {},
   "source": [
    "# Data Science Tools and Ecosystem"
   ]
  },
  {
   "cell_type": "markdown",
   "id": "ec57811f",
   "metadata": {},
   "source": [
    "## Author\n",
    "Howard Lenz"
   ]
  },
  {
   "cell_type": "markdown",
   "id": "8cd038a2",
   "metadata": {},
   "source": [
    "In this notebook, Data Science Tools and Ecosystem are summarized."
   ]
  },
  {
   "cell_type": "markdown",
   "id": "ef79df0b",
   "metadata": {},
   "source": [
    "__Objectives:__\n",
    "\n",
    "- List Popular Data Science Languages\n",
    "- List commonr libararies\n",
    "- Show how to do arithmetic"
   ]
  },
  {
   "cell_type": "markdown",
   "id": "4627b112",
   "metadata": {},
   "source": [
    "Some of the popular languages that Data Scientists use are:\n",
    "    1. Python\n",
    "    2. R\n",
    "    3. Java\n",
    "    "
   ]
  },
  {
   "cell_type": "markdown",
   "id": "5b4f094a",
   "metadata": {},
   "source": [
    "Some of the commonly used libraries by Data Scientists are:\n",
    "    1. ggplot\n",
    "    2. pandas\n",
    "    3. scikit-learn"
   ]
  },
  {
   "cell_type": "markdown",
   "id": "cb842171",
   "metadata": {},
   "source": [
    "| Data Science Tools |\n",
    "| --- |\n",
    "| GitHub |\n",
    "| Hadoop |\n",
    "| R Studio |"
   ]
  },
  {
   "cell_type": "markdown",
   "id": "93392674",
   "metadata": {},
   "source": [
    "### Below are a few examples of evaluating arithmetic expressions in Python\n"
   ]
  },
  {
   "cell_type": "code",
   "execution_count": 1,
   "id": "2718cb57",
   "metadata": {},
   "outputs": [
    {
     "data": {
      "text/plain": [
       "17"
      ]
     },
     "execution_count": 1,
     "metadata": {},
     "output_type": "execute_result"
    }
   ],
   "source": [
    "# This a simple arithmetic expression to mutiply then add integers\n",
    "(3*4)+5"
   ]
  },
  {
   "cell_type": "code",
   "execution_count": 2,
   "id": "b3f7511f",
   "metadata": {},
   "outputs": [
    {
     "data": {
      "text/plain": [
       "3.3333333333333335"
      ]
     },
     "execution_count": 2,
     "metadata": {},
     "output_type": "execute_result"
    }
   ],
   "source": [
    "# This will convert 200 minutes to hours by diving by 60\n",
    "200/60"
   ]
  }
 ],
 "metadata": {
  "kernelspec": {
   "display_name": "Python 3 (ipykernel)",
   "language": "python",
   "name": "python3"
  },
  "language_info": {
   "codemirror_mode": {
    "name": "ipython",
    "version": 3
   },
   "file_extension": ".py",
   "mimetype": "text/x-python",
   "name": "python",
   "nbconvert_exporter": "python",
   "pygments_lexer": "ipython3",
   "version": "3.11.3"
  }
 },
 "nbformat": 4,
 "nbformat_minor": 5
}
